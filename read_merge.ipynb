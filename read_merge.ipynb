{
 "cells": [
  {
   "cell_type": "markdown",
   "metadata": {},
   "source": [
    "# データ読込とデータ結合"
   ]
  },
  {
   "cell_type": "code",
   "execution_count": 1,
   "metadata": {},
   "outputs": [],
   "source": [
    "import matplotlib.pyplot as plt\n",
    "import pandas as pd\n",
    "import numpy as np"
   ]
  },
  {
   "cell_type": "markdown",
   "metadata": {},
   "source": [
    "#    データ読込"
   ]
  },
  {
   "cell_type": "code",
   "execution_count": 2,
   "metadata": {},
   "outputs": [],
   "source": [
    "# CSVファイルを読み込む\n",
    "train = pd.read_csv('./train.csv', encoding = 'utf-8')\n",
    "test = pd.read_csv('./test.csv', encoding = 'utf-8')\n",
    "condition = pd.read_csv('./condition.csv', encoding = 'utf-8')\n",
    "stadium = pd.read_csv('./stadium.csv', encoding = 'utf-8')\n",
    "sample = pd.read_csv('./sample_submit.csv', encoding = 'utf-8')"
   ]
  },
  {
   "cell_type": "code",
   "execution_count": 3,
   "metadata": {},
   "outputs": [
    {
     "data": {
      "text/html": [
       "<div>\n",
       "<style scoped>\n",
       "    .dataframe tbody tr th:only-of-type {\n",
       "        vertical-align: middle;\n",
       "    }\n",
       "\n",
       "    .dataframe tbody tr th {\n",
       "        vertical-align: top;\n",
       "    }\n",
       "\n",
       "    .dataframe thead th {\n",
       "        text-align: right;\n",
       "    }\n",
       "</style>\n",
       "<table border=\"1\" class=\"dataframe\">\n",
       "  <thead>\n",
       "    <tr style=\"text-align: right;\">\n",
       "      <th></th>\n",
       "      <th>id</th>\n",
       "      <th>y</th>\n",
       "      <th>year</th>\n",
       "      <th>stage</th>\n",
       "      <th>match</th>\n",
       "      <th>gameday</th>\n",
       "      <th>time</th>\n",
       "      <th>home</th>\n",
       "      <th>away</th>\n",
       "      <th>stadium</th>\n",
       "      <th>tv</th>\n",
       "    </tr>\n",
       "  </thead>\n",
       "  <tbody>\n",
       "    <tr>\n",
       "      <th>0</th>\n",
       "      <td>13994</td>\n",
       "      <td>18250</td>\n",
       "      <td>2012</td>\n",
       "      <td>Ｊ１</td>\n",
       "      <td>第１節第１日</td>\n",
       "      <td>03/10(土)</td>\n",
       "      <td>14:04</td>\n",
       "      <td>ベガルタ仙台</td>\n",
       "      <td>鹿島アントラーズ</td>\n",
       "      <td>ユアテックスタジアム仙台</td>\n",
       "      <td>スカパー／ｅ２／スカパー光／ＮＨＫ総合</td>\n",
       "    </tr>\n",
       "    <tr>\n",
       "      <th>1</th>\n",
       "      <td>13995</td>\n",
       "      <td>24316</td>\n",
       "      <td>2012</td>\n",
       "      <td>Ｊ１</td>\n",
       "      <td>第１節第１日</td>\n",
       "      <td>03/10(土)</td>\n",
       "      <td>14:04</td>\n",
       "      <td>名古屋グランパス</td>\n",
       "      <td>清水エスパルス</td>\n",
       "      <td>豊田スタジアム</td>\n",
       "      <td>スカパー／ｅ２／スカパー光（Ｊ　ＳＰＯＲＴＳ　４）／ＮＨＫ名古屋</td>\n",
       "    </tr>\n",
       "    <tr>\n",
       "      <th>2</th>\n",
       "      <td>13996</td>\n",
       "      <td>17066</td>\n",
       "      <td>2012</td>\n",
       "      <td>Ｊ１</td>\n",
       "      <td>第１節第１日</td>\n",
       "      <td>03/10(土)</td>\n",
       "      <td>14:04</td>\n",
       "      <td>ガンバ大阪</td>\n",
       "      <td>ヴィッセル神戸</td>\n",
       "      <td>万博記念競技場</td>\n",
       "      <td>スカパー／ｅ２／スカパー光（Ｊ　ＳＰＯＲＴＳ　１）／ＮＨＫ大阪</td>\n",
       "    </tr>\n",
       "    <tr>\n",
       "      <th>3</th>\n",
       "      <td>13997</td>\n",
       "      <td>29603</td>\n",
       "      <td>2012</td>\n",
       "      <td>Ｊ１</td>\n",
       "      <td>第１節第１日</td>\n",
       "      <td>03/10(土)</td>\n",
       "      <td>14:06</td>\n",
       "      <td>サンフレッチェ広島</td>\n",
       "      <td>浦和レッズ</td>\n",
       "      <td>エディオンスタジアム広島</td>\n",
       "      <td>スカパー／ｅ２／スカパー光／ＮＨＫ広島</td>\n",
       "    </tr>\n",
       "    <tr>\n",
       "      <th>4</th>\n",
       "      <td>13998</td>\n",
       "      <td>25353</td>\n",
       "      <td>2012</td>\n",
       "      <td>Ｊ１</td>\n",
       "      <td>第１節第１日</td>\n",
       "      <td>03/10(土)</td>\n",
       "      <td>14:04</td>\n",
       "      <td>コンサドーレ札幌</td>\n",
       "      <td>ジュビロ磐田</td>\n",
       "      <td>札幌ドーム</td>\n",
       "      <td>スカパー／ｅ２／スカパー光（スカイ・Ａ　ｓｐｏｒｔｓ＋）／ＮＨＫ札幌</td>\n",
       "    </tr>\n",
       "  </tbody>\n",
       "</table>\n",
       "</div>"
      ],
      "text/plain": [
       "      id      y  year stage   match   gameday   time       home      away  \\\n",
       "0  13994  18250  2012    Ｊ１  第１節第１日  03/10(土)  14:04     ベガルタ仙台  鹿島アントラーズ   \n",
       "1  13995  24316  2012    Ｊ１  第１節第１日  03/10(土)  14:04   名古屋グランパス   清水エスパルス   \n",
       "2  13996  17066  2012    Ｊ１  第１節第１日  03/10(土)  14:04      ガンバ大阪   ヴィッセル神戸   \n",
       "3  13997  29603  2012    Ｊ１  第１節第１日  03/10(土)  14:06  サンフレッチェ広島     浦和レッズ   \n",
       "4  13998  25353  2012    Ｊ１  第１節第１日  03/10(土)  14:04   コンサドーレ札幌    ジュビロ磐田   \n",
       "\n",
       "        stadium                                  tv  \n",
       "0  ユアテックスタジアム仙台                 スカパー／ｅ２／スカパー光／ＮＨＫ総合  \n",
       "1       豊田スタジアム    スカパー／ｅ２／スカパー光（Ｊ　ＳＰＯＲＴＳ　４）／ＮＨＫ名古屋  \n",
       "2       万博記念競技場     スカパー／ｅ２／スカパー光（Ｊ　ＳＰＯＲＴＳ　１）／ＮＨＫ大阪  \n",
       "3  エディオンスタジアム広島                 スカパー／ｅ２／スカパー光／ＮＨＫ広島  \n",
       "4         札幌ドーム  スカパー／ｅ２／スカパー光（スカイ・Ａ　ｓｐｏｒｔｓ＋）／ＮＨＫ札幌  "
      ]
     },
     "execution_count": 3,
     "metadata": {},
     "output_type": "execute_result"
    }
   ],
   "source": [
    "# trainデータ確認\n",
    "# trainから5件取得\n",
    "train.head(5)"
   ]
  },
  {
   "cell_type": "code",
   "execution_count": 4,
   "metadata": {},
   "outputs": [
    {
     "data": {
      "text/html": [
       "<div>\n",
       "<style scoped>\n",
       "    .dataframe tbody tr th:only-of-type {\n",
       "        vertical-align: middle;\n",
       "    }\n",
       "\n",
       "    .dataframe tbody tr th {\n",
       "        vertical-align: top;\n",
       "    }\n",
       "\n",
       "    .dataframe thead th {\n",
       "        text-align: right;\n",
       "    }\n",
       "</style>\n",
       "<table border=\"1\" class=\"dataframe\">\n",
       "  <thead>\n",
       "    <tr style=\"text-align: right;\">\n",
       "      <th></th>\n",
       "      <th>id</th>\n",
       "      <th>year</th>\n",
       "      <th>stage</th>\n",
       "      <th>match</th>\n",
       "      <th>gameday</th>\n",
       "      <th>time</th>\n",
       "      <th>home</th>\n",
       "      <th>away</th>\n",
       "      <th>stadium</th>\n",
       "      <th>tv</th>\n",
       "    </tr>\n",
       "  </thead>\n",
       "  <tbody>\n",
       "    <tr>\n",
       "      <th>0</th>\n",
       "      <td>15822</td>\n",
       "      <td>2014</td>\n",
       "      <td>Ｊ１</td>\n",
       "      <td>第１８節第１日</td>\n",
       "      <td>08/02(土)</td>\n",
       "      <td>19:04</td>\n",
       "      <td>ベガルタ仙台</td>\n",
       "      <td>大宮アルディージャ</td>\n",
       "      <td>ユアテックスタジアム仙台</td>\n",
       "      <td>スカパー！／スカパー！プレミアムサービス</td>\n",
       "    </tr>\n",
       "    <tr>\n",
       "      <th>1</th>\n",
       "      <td>15823</td>\n",
       "      <td>2014</td>\n",
       "      <td>Ｊ１</td>\n",
       "      <td>第１８節第１日</td>\n",
       "      <td>08/02(土)</td>\n",
       "      <td>18:34</td>\n",
       "      <td>鹿島アントラーズ</td>\n",
       "      <td>サンフレッチェ広島</td>\n",
       "      <td>県立カシマサッカースタジアム</td>\n",
       "      <td>スカパー！／スカパー！プレミアムサービス</td>\n",
       "    </tr>\n",
       "    <tr>\n",
       "      <th>2</th>\n",
       "      <td>15824</td>\n",
       "      <td>2014</td>\n",
       "      <td>Ｊ１</td>\n",
       "      <td>第１８節第１日</td>\n",
       "      <td>08/02(土)</td>\n",
       "      <td>19:04</td>\n",
       "      <td>浦和レッズ</td>\n",
       "      <td>ヴィッセル神戸</td>\n",
       "      <td>埼玉スタジアム２００２</td>\n",
       "      <td>スカパー！／スカパー！プレミアムサービス／ＮＨＫ　ＢＳ１／テレ玉</td>\n",
       "    </tr>\n",
       "    <tr>\n",
       "      <th>3</th>\n",
       "      <td>15825</td>\n",
       "      <td>2014</td>\n",
       "      <td>Ｊ１</td>\n",
       "      <td>第１８節第１日</td>\n",
       "      <td>08/02(土)</td>\n",
       "      <td>19:03</td>\n",
       "      <td>柏レイソル</td>\n",
       "      <td>川崎フロンターレ</td>\n",
       "      <td>日立柏サッカー場</td>\n",
       "      <td>スカパー！／スカパー！プレミアムサービス</td>\n",
       "    </tr>\n",
       "    <tr>\n",
       "      <th>4</th>\n",
       "      <td>15827</td>\n",
       "      <td>2014</td>\n",
       "      <td>Ｊ１</td>\n",
       "      <td>第１８節第１日</td>\n",
       "      <td>08/02(土)</td>\n",
       "      <td>19:03</td>\n",
       "      <td>アルビレックス新潟</td>\n",
       "      <td>セレッソ大阪</td>\n",
       "      <td>デンカビッグスワンスタジアム</td>\n",
       "      <td>スカパー！／スカパー！プレミアムサービス</td>\n",
       "    </tr>\n",
       "  </tbody>\n",
       "</table>\n",
       "</div>"
      ],
      "text/plain": [
       "      id  year stage    match   gameday   time       home       away  \\\n",
       "0  15822  2014    Ｊ１  第１８節第１日  08/02(土)  19:04     ベガルタ仙台  大宮アルディージャ   \n",
       "1  15823  2014    Ｊ１  第１８節第１日  08/02(土)  18:34   鹿島アントラーズ  サンフレッチェ広島   \n",
       "2  15824  2014    Ｊ１  第１８節第１日  08/02(土)  19:04      浦和レッズ    ヴィッセル神戸   \n",
       "3  15825  2014    Ｊ１  第１８節第１日  08/02(土)  19:03      柏レイソル   川崎フロンターレ   \n",
       "4  15827  2014    Ｊ１  第１８節第１日  08/02(土)  19:03  アルビレックス新潟     セレッソ大阪   \n",
       "\n",
       "          stadium                                tv  \n",
       "0    ユアテックスタジアム仙台              スカパー！／スカパー！プレミアムサービス  \n",
       "1  県立カシマサッカースタジアム              スカパー！／スカパー！プレミアムサービス  \n",
       "2     埼玉スタジアム２００２  スカパー！／スカパー！プレミアムサービス／ＮＨＫ　ＢＳ１／テレ玉  \n",
       "3        日立柏サッカー場              スカパー！／スカパー！プレミアムサービス  \n",
       "4  デンカビッグスワンスタジアム              スカパー！／スカパー！プレミアムサービス  "
      ]
     },
     "execution_count": 4,
     "metadata": {},
     "output_type": "execute_result"
    }
   ],
   "source": [
    "# testデータ確認\n",
    "# testから5件取得\n",
    "test.head(5)"
   ]
  },
  {
   "cell_type": "code",
   "execution_count": 5,
   "metadata": {},
   "outputs": [
    {
     "data": {
      "text/html": [
       "<div>\n",
       "<style scoped>\n",
       "    .dataframe tbody tr th:only-of-type {\n",
       "        vertical-align: middle;\n",
       "    }\n",
       "\n",
       "    .dataframe tbody tr th {\n",
       "        vertical-align: top;\n",
       "    }\n",
       "\n",
       "    .dataframe thead th {\n",
       "        text-align: right;\n",
       "    }\n",
       "</style>\n",
       "<table border=\"1\" class=\"dataframe\">\n",
       "  <thead>\n",
       "    <tr style=\"text-align: right;\">\n",
       "      <th></th>\n",
       "      <th>id</th>\n",
       "      <th>home_score</th>\n",
       "      <th>away_score</th>\n",
       "      <th>weather</th>\n",
       "      <th>temperature</th>\n",
       "      <th>humidity</th>\n",
       "      <th>referee</th>\n",
       "      <th>home_team</th>\n",
       "      <th>home_01</th>\n",
       "      <th>home_02</th>\n",
       "      <th>...</th>\n",
       "      <th>away_02</th>\n",
       "      <th>away_03</th>\n",
       "      <th>away_04</th>\n",
       "      <th>away_05</th>\n",
       "      <th>away_06</th>\n",
       "      <th>away_07</th>\n",
       "      <th>away_08</th>\n",
       "      <th>away_09</th>\n",
       "      <th>away_10</th>\n",
       "      <th>away_11</th>\n",
       "    </tr>\n",
       "  </thead>\n",
       "  <tbody>\n",
       "    <tr>\n",
       "      <th>0</th>\n",
       "      <td>13994</td>\n",
       "      <td>1</td>\n",
       "      <td>0</td>\n",
       "      <td>雨</td>\n",
       "      <td>3.8</td>\n",
       "      <td>66%</td>\n",
       "      <td>木村　博之</td>\n",
       "      <td>ベガルタ仙台</td>\n",
       "      <td>林　卓人</td>\n",
       "      <td>菅井　直樹</td>\n",
       "      <td>...</td>\n",
       "      <td>新井場　徹</td>\n",
       "      <td>岩政　大樹</td>\n",
       "      <td>中田　浩二</td>\n",
       "      <td>アレックス</td>\n",
       "      <td>青木　剛</td>\n",
       "      <td>増田　誓志</td>\n",
       "      <td>小笠原　満男</td>\n",
       "      <td>本山　雅志</td>\n",
       "      <td>大迫　勇也</td>\n",
       "      <td>ジュニーニョ</td>\n",
       "    </tr>\n",
       "    <tr>\n",
       "      <th>1</th>\n",
       "      <td>13995</td>\n",
       "      <td>1</td>\n",
       "      <td>0</td>\n",
       "      <td>屋内</td>\n",
       "      <td>12.4</td>\n",
       "      <td>43%</td>\n",
       "      <td>西村　雄一</td>\n",
       "      <td>名古屋グランパス</td>\n",
       "      <td>楢﨑　正剛</td>\n",
       "      <td>田中　隼磨</td>\n",
       "      <td>...</td>\n",
       "      <td>吉田　豊</td>\n",
       "      <td>岩下　敬輔</td>\n",
       "      <td>カルフィン　ヨン　ア　ピン</td>\n",
       "      <td>李　記帝</td>\n",
       "      <td>村松　大輔</td>\n",
       "      <td>河井　陽介</td>\n",
       "      <td>枝村　匠馬</td>\n",
       "      <td>高木　俊幸</td>\n",
       "      <td>アレックス</td>\n",
       "      <td>大前　元紀</td>\n",
       "    </tr>\n",
       "    <tr>\n",
       "      <th>2</th>\n",
       "      <td>13996</td>\n",
       "      <td>2</td>\n",
       "      <td>3</td>\n",
       "      <td>晴一時雨</td>\n",
       "      <td>11.3</td>\n",
       "      <td>41%</td>\n",
       "      <td>高山　啓義</td>\n",
       "      <td>ガンバ大阪</td>\n",
       "      <td>藤ヶ谷　陽介</td>\n",
       "      <td>加地　亮</td>\n",
       "      <td>...</td>\n",
       "      <td>近藤　岳登</td>\n",
       "      <td>北本　久仁衛</td>\n",
       "      <td>伊野波　雅彦</td>\n",
       "      <td>相馬　崇人</td>\n",
       "      <td>三原　雅俊</td>\n",
       "      <td>田中　英雄</td>\n",
       "      <td>野沢　拓也</td>\n",
       "      <td>橋本　英郎</td>\n",
       "      <td>森岡　亮太</td>\n",
       "      <td>大久保　嘉人</td>\n",
       "    </tr>\n",
       "    <tr>\n",
       "      <th>3</th>\n",
       "      <td>13997</td>\n",
       "      <td>1</td>\n",
       "      <td>0</td>\n",
       "      <td>曇一時雨のち晴</td>\n",
       "      <td>11.4</td>\n",
       "      <td>52%</td>\n",
       "      <td>松尾　一</td>\n",
       "      <td>サンフレッチェ広島</td>\n",
       "      <td>西川　周作</td>\n",
       "      <td>森脇　良太</td>\n",
       "      <td>...</td>\n",
       "      <td>濱田　水輝</td>\n",
       "      <td>阿部　勇樹</td>\n",
       "      <td>槙野　智章</td>\n",
       "      <td>平川　忠亮</td>\n",
       "      <td>鈴木　啓太</td>\n",
       "      <td>山田　直輝</td>\n",
       "      <td>梅崎　司</td>\n",
       "      <td>柏木　陽介</td>\n",
       "      <td>原口　元気</td>\n",
       "      <td>田中　達也</td>\n",
       "    </tr>\n",
       "    <tr>\n",
       "      <th>4</th>\n",
       "      <td>13998</td>\n",
       "      <td>0</td>\n",
       "      <td>0</td>\n",
       "      <td>屋内</td>\n",
       "      <td>22.5</td>\n",
       "      <td>32%</td>\n",
       "      <td>廣瀬　格</td>\n",
       "      <td>コンサドーレ札幌</td>\n",
       "      <td>李　昊乗</td>\n",
       "      <td>高木　純平</td>\n",
       "      <td>...</td>\n",
       "      <td>駒野　友一</td>\n",
       "      <td>チョ　ビョングク</td>\n",
       "      <td>藤田　義明</td>\n",
       "      <td>山本　脩斗</td>\n",
       "      <td>小林　裕紀</td>\n",
       "      <td>山本　康裕</td>\n",
       "      <td>山田　大記</td>\n",
       "      <td>松浦　拓弥</td>\n",
       "      <td>菅沼　実</td>\n",
       "      <td>前田　遼一</td>\n",
       "    </tr>\n",
       "  </tbody>\n",
       "</table>\n",
       "<p>5 rows × 31 columns</p>\n",
       "</div>"
      ],
      "text/plain": [
       "      id  home_score  away_score  weather  temperature humidity referee  \\\n",
       "0  13994           1           0        雨          3.8      66%   木村　博之   \n",
       "1  13995           1           0       屋内         12.4      43%   西村　雄一   \n",
       "2  13996           2           3     晴一時雨         11.3      41%   高山　啓義   \n",
       "3  13997           1           0  曇一時雨のち晴         11.4      52%    松尾　一   \n",
       "4  13998           0           0       屋内         22.5      32%    廣瀬　格   \n",
       "\n",
       "   home_team home_01 home_02  ... away_02   away_03        away_04 away_05  \\\n",
       "0     ベガルタ仙台    林　卓人   菅井　直樹  ...   新井場　徹     岩政　大樹          中田　浩二   アレックス   \n",
       "1   名古屋グランパス   楢﨑　正剛   田中　隼磨  ...    吉田　豊     岩下　敬輔  カルフィン　ヨン　ア　ピン    李　記帝   \n",
       "2      ガンバ大阪  藤ヶ谷　陽介    加地　亮  ...   近藤　岳登    北本　久仁衛         伊野波　雅彦   相馬　崇人   \n",
       "3  サンフレッチェ広島   西川　周作   森脇　良太  ...   濱田　水輝     阿部　勇樹          槙野　智章   平川　忠亮   \n",
       "4   コンサドーレ札幌    李　昊乗   高木　純平  ...   駒野　友一  チョ　ビョングク          藤田　義明   山本　脩斗   \n",
       "\n",
       "  away_06 away_07 away_08 away_09 away_10 away_11  \n",
       "0    青木　剛   増田　誓志  小笠原　満男   本山　雅志   大迫　勇也  ジュニーニョ  \n",
       "1   村松　大輔   河井　陽介   枝村　匠馬   高木　俊幸   アレックス   大前　元紀  \n",
       "2   三原　雅俊   田中　英雄   野沢　拓也   橋本　英郎   森岡　亮太  大久保　嘉人  \n",
       "3   鈴木　啓太   山田　直輝    梅崎　司   柏木　陽介   原口　元気   田中　達也  \n",
       "4   小林　裕紀   山本　康裕   山田　大記   松浦　拓弥    菅沼　実   前田　遼一  \n",
       "\n",
       "[5 rows x 31 columns]"
      ]
     },
     "execution_count": 5,
     "metadata": {},
     "output_type": "execute_result"
    }
   ],
   "source": [
    "# conditionデータ確認\n",
    "# conditionから5件取得\n",
    "condition.head(5)"
   ]
  },
  {
   "cell_type": "code",
   "execution_count": 6,
   "metadata": {},
   "outputs": [
    {
     "data": {
      "text/html": [
       "<div>\n",
       "<style scoped>\n",
       "    .dataframe tbody tr th:only-of-type {\n",
       "        vertical-align: middle;\n",
       "    }\n",
       "\n",
       "    .dataframe tbody tr th {\n",
       "        vertical-align: top;\n",
       "    }\n",
       "\n",
       "    .dataframe thead th {\n",
       "        text-align: right;\n",
       "    }\n",
       "</style>\n",
       "<table border=\"1\" class=\"dataframe\">\n",
       "  <thead>\n",
       "    <tr style=\"text-align: right;\">\n",
       "      <th></th>\n",
       "      <th>name</th>\n",
       "      <th>address</th>\n",
       "      <th>capa</th>\n",
       "    </tr>\n",
       "  </thead>\n",
       "  <tbody>\n",
       "    <tr>\n",
       "      <th>0</th>\n",
       "      <td>名古屋市瑞穂陸上競技場</td>\n",
       "      <td>愛知県名古屋市瑞穂区山下通5-1</td>\n",
       "      <td>20000</td>\n",
       "    </tr>\n",
       "    <tr>\n",
       "      <th>1</th>\n",
       "      <td>豊田スタジアム</td>\n",
       "      <td>愛知県豊田市千石町7-2</td>\n",
       "      <td>40000</td>\n",
       "    </tr>\n",
       "    <tr>\n",
       "      <th>2</th>\n",
       "      <td>フクダ電子アリーナ</td>\n",
       "      <td>千葉県千葉市中央区川崎町1-20</td>\n",
       "      <td>18500</td>\n",
       "    </tr>\n",
       "    <tr>\n",
       "      <th>3</th>\n",
       "      <td>日立柏サッカー場</td>\n",
       "      <td>千葉県柏市日立台1-2-50</td>\n",
       "      <td>15349</td>\n",
       "    </tr>\n",
       "    <tr>\n",
       "      <th>4</th>\n",
       "      <td>ニンジニアスタジアム</td>\n",
       "      <td>愛媛県松山市上野町乙46</td>\n",
       "      <td>15576</td>\n",
       "    </tr>\n",
       "  </tbody>\n",
       "</table>\n",
       "</div>"
      ],
      "text/plain": [
       "          name           address   capa\n",
       "0  名古屋市瑞穂陸上競技場  愛知県名古屋市瑞穂区山下通5-1  20000\n",
       "1      豊田スタジアム      愛知県豊田市千石町7-2  40000\n",
       "2    フクダ電子アリーナ  千葉県千葉市中央区川崎町1-20  18500\n",
       "3     日立柏サッカー場    千葉県柏市日立台1-2-50  15349\n",
       "4   ニンジニアスタジアム      愛媛県松山市上野町乙46  15576"
      ]
     },
     "execution_count": 6,
     "metadata": {},
     "output_type": "execute_result"
    }
   ],
   "source": [
    "# stadiumデータ確認\n",
    "# stadiumから5件取得\n",
    "stadium.head(5)"
   ]
  },
  {
   "cell_type": "code",
   "execution_count": 7,
   "metadata": {},
   "outputs": [
    {
     "data": {
      "text/html": [
       "<div>\n",
       "<style scoped>\n",
       "    .dataframe tbody tr th:only-of-type {\n",
       "        vertical-align: middle;\n",
       "    }\n",
       "\n",
       "    .dataframe tbody tr th {\n",
       "        vertical-align: top;\n",
       "    }\n",
       "\n",
       "    .dataframe thead th {\n",
       "        text-align: right;\n",
       "    }\n",
       "</style>\n",
       "<table border=\"1\" class=\"dataframe\">\n",
       "  <thead>\n",
       "    <tr style=\"text-align: right;\">\n",
       "      <th></th>\n",
       "      <th>15822</th>\n",
       "      <th>10662.3951191</th>\n",
       "    </tr>\n",
       "  </thead>\n",
       "  <tbody>\n",
       "    <tr>\n",
       "      <th>0</th>\n",
       "      <td>15823</td>\n",
       "      <td>10662.395119</td>\n",
       "    </tr>\n",
       "    <tr>\n",
       "      <th>1</th>\n",
       "      <td>15824</td>\n",
       "      <td>10662.395119</td>\n",
       "    </tr>\n",
       "    <tr>\n",
       "      <th>2</th>\n",
       "      <td>15825</td>\n",
       "      <td>10662.395119</td>\n",
       "    </tr>\n",
       "    <tr>\n",
       "      <th>3</th>\n",
       "      <td>15827</td>\n",
       "      <td>10662.395119</td>\n",
       "    </tr>\n",
       "    <tr>\n",
       "      <th>4</th>\n",
       "      <td>15828</td>\n",
       "      <td>10662.395119</td>\n",
       "    </tr>\n",
       "  </tbody>\n",
       "</table>\n",
       "</div>"
      ],
      "text/plain": [
       "   15822  10662.3951191\n",
       "0  15823   10662.395119\n",
       "1  15824   10662.395119\n",
       "2  15825   10662.395119\n",
       "3  15827   10662.395119\n",
       "4  15828   10662.395119"
      ]
     },
     "execution_count": 7,
     "metadata": {},
     "output_type": "execute_result"
    }
   ],
   "source": [
    "# sampleデータ確認\n",
    "# sampleから5件取得\n",
    "sample.head(5)"
   ]
  },
  {
   "cell_type": "markdown",
   "metadata": {},
   "source": [
    "# 基礎集計(trainのみ)"
   ]
  },
  {
   "cell_type": "code",
   "execution_count": 8,
   "metadata": {},
   "outputs": [
    {
     "data": {
      "text/plain": [
       "0"
      ]
     },
     "execution_count": 8,
     "metadata": {},
     "output_type": "execute_result"
    }
   ],
   "source": [
    "# 欠損値の個数をカウント\n",
    "train.isna().sum().sum()"
   ]
  },
  {
   "cell_type": "code",
   "execution_count": 9,
   "metadata": {},
   "outputs": [
    {
     "data": {
      "text/plain": [
       "Ｊ１     675\n",
       "Ｊ２    1046\n",
       "Name: stage, dtype: int64"
      ]
     },
     "execution_count": 9,
     "metadata": {},
     "output_type": "execute_result"
    }
   ],
   "source": [
    "# trainの質的変数の個数を取得\n",
    "train['stage'].value_counts().reindex(['Ｊ１', 'Ｊ２'])"
   ]
  },
  {
   "cell_type": "code",
   "execution_count": 10,
   "metadata": {},
   "outputs": [
    {
     "data": {
      "text/plain": [
       "第６節第１日     54\n",
       "第９節第１日     53\n",
       "第１２節第１日    52\n",
       "第３節第１日     51\n",
       "第４節第１日     51\n",
       "第１１節第１日    50\n",
       "第１５節第１日    49\n",
       "第８節第１日     49\n",
       "第２節第１日     48\n",
       "第１０節第１日    48\n",
       "第１節第１日     46\n",
       "第２３節第１日    45\n",
       "第２１節第１日    44\n",
       "第２２節第１日    44\n",
       "第２０節第１日    44\n",
       "第１７節第１日    43\n",
       "第１３節第１日    43\n",
       "第２４節第１日    43\n",
       "第７節第１日     43\n",
       "第１６節第１日    42\n",
       "第１４節第１日    40\n",
       "第３２節第１日    38\n",
       "第２９節第１日    37\n",
       "第５節第１日     37\n",
       "第３１節第１日    37\n",
       "第１９節第１日    37\n",
       "第２８節第１日    36\n",
       "第１８節第１日    36\n",
       "第３３節第１日    36\n",
       "第２６節第１日    35\n",
       "           ..\n",
       "第３７節第１日    12\n",
       "第１８節第２日    11\n",
       "第１６節第２日    11\n",
       "第１４節第２日    10\n",
       "第１３節第２日    10\n",
       "第３７節第２日     8\n",
       "第１７節第２日     8\n",
       "第１９節第２日     8\n",
       "第８節第２日      8\n",
       "第３０節第２日     8\n",
       "第２５節第２日     8\n",
       "第７節第２日      8\n",
       "第９節第２日      4\n",
       "第１節第２日      4\n",
       "第１２節第２日     3\n",
       "第６節第２日      2\n",
       "第３節第２日      2\n",
       "第３３節第２日     2\n",
       "第１５節第２日     2\n",
       "第２８節第２日     2\n",
       "第３４節第２日     2\n",
       "第１０節第２日     1\n",
       "第３５節第２日     1\n",
       "第２６節第２日     1\n",
       "第３６節第３日     1\n",
       "第３１節第２日     1\n",
       "第１１節第２日     1\n",
       "第１７節第３日     1\n",
       "第３６節第２日     1\n",
       "第３６節第４日     1\n",
       "Name: match, Length: 72, dtype: int64"
      ]
     },
     "execution_count": 10,
     "metadata": {},
     "output_type": "execute_result"
    }
   ],
   "source": [
    "train['match'].value_counts()"
   ]
  },
  {
   "cell_type": "code",
   "execution_count": 11,
   "metadata": {},
   "outputs": [
    {
     "data": {
      "text/plain": [
       "11/10(日)      19\n",
       "05/03(土・祝)    19\n",
       "04/26(土)      19\n",
       "05/03(木・祝)    18\n",
       "10/27(日)      17\n",
       "05/06(火・休)    17\n",
       "05/03(金・祝)    17\n",
       "03/17(土)      16\n",
       "05/06(日)      16\n",
       "05/06(月・休)    15\n",
       "04/29(火・祝)    14\n",
       "05/20(日)      12\n",
       "04/14(日)      12\n",
       "04/22(日)      12\n",
       "04/20(日)      12\n",
       "06/07(土)      11\n",
       "08/05(日)      11\n",
       "03/22(土)      11\n",
       "09/02(日)      11\n",
       "03/25(日)      11\n",
       "06/29(土)      11\n",
       "06/13(水)      11\n",
       "03/03(日)      11\n",
       "04/27(金)      11\n",
       "07/07(日)      11\n",
       "09/17(月・祝)    11\n",
       "03/17(日)      11\n",
       "04/05(土)      11\n",
       "03/16(日)      11\n",
       "04/15(日)      11\n",
       "              ..\n",
       "03/01(土)       5\n",
       "08/11(土)       5\n",
       "06/27(水)       2\n",
       "05/29(水)       2\n",
       "05/25(日)       2\n",
       "09/23(月・祝)     2\n",
       "07/15(火)       2\n",
       "05/25(金)       2\n",
       "09/16(月・祝)     2\n",
       "10/23(水)       1\n",
       "03/28(金)       1\n",
       "05/15(水)       1\n",
       "05/12(月)       1\n",
       "06/09(日)       1\n",
       "10/01(月)       1\n",
       "08/12(月)       1\n",
       "06/01(日)       1\n",
       "04/29(月・祝)     1\n",
       "06/03(月)       1\n",
       "10/25(木)       1\n",
       "05/17(木)       1\n",
       "06/01(金)       1\n",
       "06/02(日)       1\n",
       "10/18(木)       1\n",
       "04/11(金)       1\n",
       "06/14(金)       1\n",
       "04/26(金)       1\n",
       "10/26(土)       1\n",
       "09/05(木)       1\n",
       "09/13(金)       1\n",
       "Name: gameday, Length: 210, dtype: int64"
      ]
     },
     "execution_count": 11,
     "metadata": {},
     "output_type": "execute_result"
    }
   ],
   "source": [
    "train['gameday'].value_counts()"
   ]
  },
  {
   "cell_type": "code",
   "execution_count": 12,
   "metadata": {},
   "outputs": [
    {
     "data": {
      "text/plain": [
       "19:04    254\n",
       "19:03    166\n",
       "13:04    148\n",
       "13:03    121\n",
       "16:04    118\n",
       "16:03    113\n",
       "14:04    102\n",
       "18:03     99\n",
       "18:04     87\n",
       "14:03     69\n",
       "15:04     59\n",
       "18:34     42\n",
       "15:03     41\n",
       "19:05     35\n",
       "17:04     26\n",
       "13:05     24\n",
       "17:03     23\n",
       "15:34     21\n",
       "19:34     18\n",
       "16:05     17\n",
       "14:05     15\n",
       "18:05     15\n",
       "15:05     11\n",
       "18:33      9\n",
       "18:35      7\n",
       "17:05      7\n",
       "13:06      6\n",
       "12:34      5\n",
       "14:06      5\n",
       "16:06      4\n",
       "        ... \n",
       "12:33      3\n",
       "17:33      3\n",
       "19:06      3\n",
       "17:34      3\n",
       "12:35      2\n",
       "19:35      2\n",
       "13:33      2\n",
       "15:35      2\n",
       "14:35      1\n",
       "19:49      1\n",
       "19:30      1\n",
       "19:00      1\n",
       "17:35      1\n",
       "14:02      1\n",
       "19:02      1\n",
       "15:01      1\n",
       "14:36      1\n",
       "14:00      1\n",
       "19:01      1\n",
       "17:06      1\n",
       "16:07      1\n",
       "16:02      1\n",
       "18:06      1\n",
       "20:04      1\n",
       "20:00      1\n",
       "13:02      1\n",
       "13:08      1\n",
       "19:15      1\n",
       "18:30      1\n",
       "14:34      1\n",
       "Name: time, Length: 63, dtype: int64"
      ]
     },
     "execution_count": 12,
     "metadata": {},
     "output_type": "execute_result"
    }
   ],
   "source": [
    "train['time'].value_counts()"
   ]
  },
  {
   "cell_type": "code",
   "execution_count": 13,
   "metadata": {},
   "outputs": [
    {
     "data": {
      "text/plain": [
       "愛媛ＦＣ           51\n",
       "ロアッソ熊本         51\n",
       "栃木ＳＣ           50\n",
       "松本山雅ＦＣ         49\n",
       "モンテディオ山形       49\n",
       "徳島ヴォルティス       48\n",
       "ＦＣ岐阜           48\n",
       "アビスパ福岡         48\n",
       "ファジアーノ岡山       47\n",
       "ジェフユナイテッド千葉    47\n",
       "水戸ホーリーホック      47\n",
       "コンサドーレ札幌       46\n",
       "京都サンガF.C.      46\n",
       "湘南ベルマーレ        46\n",
       "横浜ＦＣ           45\n",
       "カターレ富山         45\n",
       "東京ヴェルディ        44\n",
       "大分トリニータ        43\n",
       "ギラヴァンツ北九州      43\n",
       "ジュビロ磐田         43\n",
       "ヴァンフォーレ甲府      42\n",
       "ヴィッセル神戸        41\n",
       "柏レイソル          41\n",
       "浦和レッズ          40\n",
       "ガンバ大阪          40\n",
       "川崎フロンターレ       39\n",
       "ベガルタ仙台         39\n",
       "セレッソ大阪         39\n",
       "清水エスパルス        39\n",
       "ＦＣ東京           38\n",
       "アルビレックス新潟      37\n",
       "サンフレッチェ広島      37\n",
       "サガン鳥栖          36\n",
       "大宮アルディージャ      36\n",
       "鹿島アントラーズ       36\n",
       "横浜Ｆ・マリノス       36\n",
       "ガイナーレ鳥取        35\n",
       "名古屋グランパス       35\n",
       "ザスパクサツ群馬       28\n",
       "Ｖ・ファーレン長崎      27\n",
       "ＦＣ町田ゼルビア       18\n",
       "ザスパ草津          17\n",
       "カマタマーレ讃岐        9\n",
       "Name: home, dtype: int64"
      ]
     },
     "execution_count": 13,
     "metadata": {},
     "output_type": "execute_result"
    }
   ],
   "source": [
    "train['home'].value_counts()"
   ]
  },
  {
   "cell_type": "code",
   "execution_count": 14,
   "metadata": {},
   "outputs": [
    {
     "data": {
      "text/plain": [
       "ロアッソ熊本         53\n",
       "水戸ホーリーホック      50\n",
       "ギラヴァンツ北九州      50\n",
       "湘南ベルマーレ        49\n",
       "松本山雅ＦＣ         49\n",
       "カターレ富山         49\n",
       "京都サンガF.C.      48\n",
       "栃木ＳＣ           47\n",
       "東京ヴェルディ        47\n",
       "ＦＣ岐阜           46\n",
       "愛媛ＦＣ           46\n",
       "アビスパ福岡         46\n",
       "ファジアーノ岡山       46\n",
       "モンテディオ山形       45\n",
       "ジェフユナイテッド千葉    45\n",
       "ガンバ大阪          45\n",
       "大分トリニータ        44\n",
       "ヴィッセル神戸        44\n",
       "横浜ＦＣ           43\n",
       "徳島ヴォルティス       42\n",
       "ヴァンフォーレ甲府      41\n",
       "サンフレッチェ広島      40\n",
       "アルビレックス新潟      39\n",
       "ジュビロ磐田         39\n",
       "セレッソ大阪         39\n",
       "コンサドーレ札幌       38\n",
       "ＦＣ東京           38\n",
       "大宮アルディージャ      38\n",
       "柏レイソル          38\n",
       "ベガルタ仙台         38\n",
       "横浜Ｆ・マリノス       38\n",
       "浦和レッズ          38\n",
       "サガン鳥栖          37\n",
       "川崎フロンターレ       37\n",
       "鹿島アントラーズ       36\n",
       "清水エスパルス        34\n",
       "ガイナーレ鳥取        34\n",
       "名古屋グランパス       33\n",
       "ザスパクサツ群馬       31\n",
       "Ｖ・ファーレン長崎      30\n",
       "ＦＣ町田ゼルビア       20\n",
       "ザスパ草津          19\n",
       "カマタマーレ讃岐       12\n",
       "Name: away, dtype: int64"
      ]
     },
     "execution_count": 14,
     "metadata": {},
     "output_type": "execute_result"
    }
   ],
   "source": [
    "train['away'].value_counts()"
   ]
  },
  {
   "cell_type": "code",
   "execution_count": 15,
   "metadata": {},
   "outputs": [
    {
     "data": {
      "text/plain": [
       "味の素スタジアム                     64\n",
       "ニンジニアスタジアム                   51\n",
       "栃木県グリーンスタジアム                 50\n",
       "松本平広域公園総合球技場                 49\n",
       "ＮＤソフトスタジアム山形                 49\n",
       "ニッパツ三ツ沢球技場                   49\n",
       "レベルファイブスタジアム                 48\n",
       "鳴門・大塚スポーツパーク　ポカリスエットスタジアム    48\n",
       "ケーズデンキスタジアム水戸                47\n",
       "フクダ電子アリーナ                    47\n",
       "シティライトスタジアム                  46\n",
       "Ｓｈｏｎａｎ　ＢＭＷスタジアム平塚            46\n",
       "富山県総合運動公園陸上競技場               45\n",
       "うまかな・よかなスタジアム                45\n",
       "正田醤油スタジアム群馬                  45\n",
       "岐阜メモリアルセンター長良川競技場            45\n",
       "京都市西京極総合運動公園陸上競技場兼球技場        44\n",
       "北九州市立本城陸上競技場                 43\n",
       "大分銀行ドーム                      43\n",
       "ヤマハスタジアム（磐田）                 40\n",
       "埼玉スタジアム２００２                  40\n",
       "万博記念競技場                      40\n",
       "山梨中銀スタジアム                    39\n",
       "等々力陸上競技場                     39\n",
       "ノエビアスタジアム神戸                  39\n",
       "ユアテックスタジアム仙台                 38\n",
       "日立柏サッカー場                     37\n",
       "デンカビッグスワンスタジアム               37\n",
       "ＩＡＩスタジアム日本平                  37\n",
       "エディオンスタジアム広島                 37\n",
       "県立カシマサッカースタジアム               36\n",
       "とりぎんバードスタジアム                 35\n",
       "ＮＡＣＫ５スタジアム大宮                 35\n",
       "ベストアメニティスタジアム                33\n",
       "日産スタジアム                      30\n",
       "長崎県立総合運動公園陸上競技場              27\n",
       "札幌ドーム                        26\n",
       "キンチョウスタジアム                   24\n",
       "豊田スタジアム                      20\n",
       "札幌厚別公園競技場                    20\n",
       "町田市立陸上競技場                    17\n",
       "国立競技場                        17\n",
       "名古屋市瑞穂陸上競技場                  15\n",
       "ヤンマースタジアム長居                  15\n",
       "香川県立丸亀競技場                     9\n",
       "駒沢オリンピック公園総合運動場陸上競技場          6\n",
       "熊本市水前寺競技場                     6\n",
       "エコパスタジアム                      5\n",
       "味の素フィールド西が丘                   4\n",
       "佐賀県総合運動場陸上競技場                 3\n",
       "岐阜メモリアルセンター長良川球技メドウ           2\n",
       "鹿児島県立鴨池陸上競技場                  2\n",
       "神戸総合運動公園ユニバー記念競技場             2\n",
       "宮城スタジアム                       1\n",
       "福島県営あづま陸上競技場                  1\n",
       "岡山県津山陸上競技場                    1\n",
       "大垣市浅中公園総合グラウンド陸上競技場           1\n",
       "熊谷スポーツ文化公園陸上競技場               1\n",
       "Name: stadium, dtype: int64"
      ]
     },
     "execution_count": 15,
     "metadata": {},
     "output_type": "execute_result"
    }
   ],
   "source": [
    "train['stadium'].value_counts()"
   ]
  },
  {
   "cell_type": "code",
   "execution_count": 16,
   "metadata": {},
   "outputs": [
    {
     "data": {
      "text/plain": [
       "スカパー！／スカパー！プレミアムサービス                         806\n",
       "スカパー／ｅ２／スカパー光                                339\n",
       "スカパー！／スカパー！プレミアムサービス／ＮＨＫ　ＢＳ１                  47\n",
       "スカパー／ｅ２／スカパー光／ＮＨＫ　ＢＳ１                         26\n",
       "スカパー！／スカパー！プレミアムサービス／とちぎテレビ（録）                17\n",
       "スカパー／ｅ２／スカパー光（スカイ・Ａ　ｓｐｏｒｔｓ＋）                  17\n",
       "スカパー／ｅ２／スカパー光（ＴＢＳチャンネル）                       17\n",
       "スカパー／ｅ２（録）／スカパー光                              15\n",
       "スカパー！／スカパー！プレミアムサービス／テレ玉                      14\n",
       "スカパー！／スカパー！プレミアムサービス／群馬テレビ                    14\n",
       "スカパー！／スカパー！プレミアムサービス／静岡放送                     13\n",
       "スカパー！／スカパー！プレミアムサービス／ＫＢＳ京都（録）                 12\n",
       "スカパー／ｅ２（スカイ・Ａ　ｓｐｏｒｔｓ＋）／スカパー光                  11\n",
       "スカパー／ｅ２／スカパー光／とちぎテレビ（録）                       10\n",
       "スカパー！／スカパー！プレミアムサービス／ＮＨＫ総合                     9\n",
       "スカパー／ｅ２／スカパー光（Ｊ　ＳＰＯＲＴＳ　１）                      9\n",
       "スカパー！／スカパー！プレミアムサービス／とちぎテレビ                    9\n",
       "スカパー！／スカパー！プレミアムサービス／岐阜放送                      8\n",
       "スカパー！／スカパー！プレミアムサービス／ＴＯＫＹＯ　ＭＸ                  8\n",
       "スカパー／ｅ２／スカパー光／ＫＢＳ京都（録）                         8\n",
       "スカパー！／スカパー！プレミアムサービス／ＫＢＳ京都                     8\n",
       "スカパー！／スカパー！プレミアムサービス／テレビ静岡                     7\n",
       "スカパー／ｅ２／スカパー光（Ｊ　ＳＰＯＲＴＳ　４）                      7\n",
       "スカパー／ｅ２／スカパー光／ＫＢＳ京都                            7\n",
       "スカパー！／スカパー！プレミアムサービス／ＮＨＫ水戸                     6\n",
       "スカパー！／スカパー！プレミアムサービス／ＮＨＫ山形                     5\n",
       "スカパー！／スカパー！プレミアムサービス／ＮＨＫ甲府                     5\n",
       "スカパー！／スカパー！プレミアムサービス／ＮＨＫ　ＢＳ１／テレ玉               5\n",
       "スカパー／ｅ２／スカパー光／とちぎテレビ                           4\n",
       "スカパー！／スカパー！プレミアムサービス／ＮＨＫ札幌                     4\n",
       "                                            ... \n",
       "スカパー！／スカパー！プレミアムサービス／ＮＨＫ長野                     1\n",
       "スカパー／ｅ２／スカパー光／ＮＨＫ京都／ＫＢＳ京都（録）                   1\n",
       "スカパー／ｅ２／スカパー光／テレビ山梨                            1\n",
       "スカパー！／スカパー！プレミアムサービス／ＮＨＫ福岡／ＮＨＫ松山               1\n",
       "スカパー／ｅ２／スカパー光／ＮＨＫ広島                            1\n",
       "スカパー／ｅ２／スカパー光（Ｊ　ＳＰＯＲＴＳ　４）／ＮＨＫ静岡                1\n",
       "スカパー！／スカパー！プレミアムサービス／ＮＨＫ熊本／ＮＨＫ鳥取               1\n",
       "スカパー／ｅ２／スカパー光／熊本放送                             1\n",
       "スカパー／ｅ２／スカパー光／ＮＨＫ　ＢＳ１／テレビ大阪                    1\n",
       "スカパー／ｅ２／スカパー光／ＮＨＫ北九州／ＮＨＫ山形                     1\n",
       "スカパー／ｅ２／スカパー光／ＮＨＫ松山                            1\n",
       "スカパー／ｅ２／スカパー光／長野放送                             1\n",
       "スカパー！／スカパー！プレミアムサービス／ＮＨＫ仙台／ＮＨＫ甲府               1\n",
       "スカパー／ｅ２／スカパー光／日本海テレビ                           1\n",
       "スカパー／ｅ２／スカパー光（ＴＢＳチャンネル）／ＢＳ－ＴＢＳ／毎日放送（録）         1\n",
       "スカパー！／スカパー！プレミアムサービス／ＮＨＫ仙台／ＮＨＫ広島               1\n",
       "スカパー！／スカパー！プレミアムサービス／ＮＨＫ水戸（録）                  1\n",
       "スカパー！／スカパー！プレミアムサービス／ＢＳ－ＴＢＳ／ＮＨＫ　ＢＳ１（録）         1\n",
       "スカパー／ｅ２（録）／スカパー光／ＮＨＫ岐阜／ＮＨＫ鳥取                   1\n",
       "スカパー／ｅ２／スカパー光／ＮＨＫ鳥取                            1\n",
       "スカパー！／スカパー！プレミアムサービス／日本海テレビ                    1\n",
       "スカパー／ｅ２／スカパー光／ＮＨＫ　ＢＳ１／テレビ静岡                    1\n",
       "スカパー／ｅ２／スカパー光／ＮＨＫ仙台／ＮＨＫ静岡                      1\n",
       "スカパー／ｅ２／スカパー光／あいテレビ                            1\n",
       "スカパー／ｅ２／スカパー光／ＮＨＫ大分                            1\n",
       "スカパー！／スカパー！プレミアムサービス／ＮＨＫ宇都宮／とちぎテレビ（録）          1\n",
       "スカパー／ｅ２／スカパー光（ＴＢＳチャンネル）／ＢＳ－ＴＢＳ（録）              1\n",
       "スカパー！／スカパー！プレミアムサービス／ＮＨＫ京都／ＮＨＫ前橋／ＫＢＳ京都（録）      1\n",
       "スカパー！／スカパー！プレミアムサービス／ＮＨＫ　ＢＳ１／名古屋テレビ（録）         1\n",
       "スカパー／ｅ２／スカパー光／ＮＨＫ佐賀                            1\n",
       "Name: tv, Length: 210, dtype: int64"
      ]
     },
     "execution_count": 16,
     "metadata": {},
     "output_type": "execute_result"
    }
   ],
   "source": [
    "train['tv'].value_counts()"
   ]
  },
  {
   "cell_type": "code",
   "execution_count": 17,
   "metadata": {},
   "outputs": [
    {
     "data": {
      "text/plain": [
       "16237"
      ]
     },
     "execution_count": 17,
     "metadata": {},
     "output_type": "execute_result"
    }
   ],
   "source": [
    "# trainの量的変数に何が入っているか\n",
    "# idの最大値\n",
    "train['id'].max()"
   ]
  },
  {
   "cell_type": "code",
   "execution_count": 18,
   "metadata": {},
   "outputs": [
    {
     "data": {
      "text/plain": [
       "13994"
      ]
     },
     "execution_count": 18,
     "metadata": {},
     "output_type": "execute_result"
    }
   ],
   "source": [
    "# idの最小値\n",
    "train['id'].min()"
   ]
  },
  {
   "cell_type": "code",
   "execution_count": 19,
   "metadata": {},
   "outputs": [
    {
     "data": {
      "image/png": "[encoded data removed]",
      "text/plain": [
       "<Figure size 432x288 with 1 Axes>"
      ]
     },
     "metadata": {
      "needs_background": "light"
     },
     "output_type": "display_data"
    }
   ],
   "source": [
    "#ヒストグラム出力\n",
    "plt.hist(train['y'].dropna(), bins=10)\n",
    "plt.show()"
   ]
  },
  {
   "cell_type": "code",
   "execution_count": 20,
   "metadata": {},
   "outputs": [
    {
     "data": {
      "text/plain": [
       "2012    682\n",
       "2013    675\n",
       "2014    364\n",
       "Name: year, dtype: int64"
      ]
     },
     "execution_count": 20,
     "metadata": {},
     "output_type": "execute_result"
    }
   ],
   "source": [
    "train['year'].value_counts()"
   ]
  },
  {
   "cell_type": "markdown",
   "metadata": {},
   "source": [
    "# データの結合(train, test)"
   ]
  },
  {
   "cell_type": "code",
   "execution_count": 21,
   "metadata": {},
   "outputs": [
    {
     "data": {
      "text/plain": [
       "58"
      ]
     },
     "execution_count": 21,
     "metadata": {},
     "output_type": "execute_result"
    }
   ],
   "source": [
    "# trainとconditionを対戦カードidを基準に結合\n",
    "tmp1 = pd.merge(train, condition, on='id', how='left')\n",
    "\n",
    "# testとconditionを対戦カードidを基準に結合\n",
    "tmp2 = pd.merge(test, condition, on='id', how='left')\n",
    "\n",
    "# 結合したデータをstadiumを基準に結合\n",
    "# 基準とする変数のチェック\n",
    "train['stadium'].nunique()"
   ]
  },
  {
   "cell_type": "code",
   "execution_count": 22,
   "metadata": {},
   "outputs": [
    {
     "data": {
      "text/plain": [
       "59"
      ]
     },
     "execution_count": 22,
     "metadata": {},
     "output_type": "execute_result"
    }
   ],
   "source": [
    "stadium['name'].nunique()"
   ]
  },
  {
   "cell_type": "code",
   "execution_count": 23,
   "metadata": {},
   "outputs": [
    {
     "data": {
      "text/plain": [
       "{'長崎市総合運動公園かきどまり陸上競技場'}"
      ]
     },
     "execution_count": 23,
     "metadata": {},
     "output_type": "execute_result"
    }
   ],
   "source": [
    "# trainに無くてstadiumにある項目の確認\n",
    "set(stadium['name']) - set(train['stadium'])"
   ]
  },
  {
   "cell_type": "code",
   "execution_count": 24,
   "metadata": {},
   "outputs": [
    {
     "data": {
      "text/plain": [
       "0"
      ]
     },
     "execution_count": 24,
     "metadata": {},
     "output_type": "execute_result"
    }
   ],
   "source": [
    "# 結合\n",
    "train_new = pd.merge(tmp1, stadium, left_on='stadium', right_on='name', how='left')\n",
    "test_new = pd.merge(tmp2, stadium, left_on='stadium', right_on='name', how='left')\n",
    "\n",
    "# 欠損値の個数をカウント\n",
    "train_new.isna().sum().sum()"
   ]
  },
  {
   "cell_type": "code",
   "execution_count": 25,
   "metadata": {},
   "outputs": [
    {
     "data": {
      "text/plain": [
       "0"
      ]
     },
     "execution_count": 25,
     "metadata": {},
     "output_type": "execute_result"
    }
   ],
   "source": [
    "test_new.isna().sum().sum()"
   ]
  },
  {
   "cell_type": "markdown",
   "metadata": {},
   "source": [
    "# データの保存"
   ]
  },
  {
   "cell_type": "code",
   "execution_count": 26,
   "metadata": {},
   "outputs": [],
   "source": [
    "# ファイル出力\n",
    "train_new.to_csv('train_new.csv', index=False)\n",
    "test_new.to_csv('test_new.csv', index=False)"
   ]
  }
 ],
 "metadata": {
  "kernelspec": {
   "display_name": "Python 3",
   "language": "python",
   "name": "python3"
  },
  "language_info": {
   "codemirror_mode": {
    "name": "ipython",
    "version": 3
   },
   "file_extension": ".py",
   "mimetype": "text/x-python",
   "name": "python",
   "nbconvert_exporter": "python",
   "pygments_lexer": "ipython3",
   "version": "3.7.3"
  }
 },
 "nbformat": 4,
 "nbformat_minor": 4
}
