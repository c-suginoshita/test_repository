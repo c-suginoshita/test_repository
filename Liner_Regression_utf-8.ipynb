{
 "cells": [
  {
   "cell_type": "markdown",
   "metadata": {},
   "source": [
    "# データ読込"
   ]
  },
  {
   "cell_type": "code",
   "execution_count": 1,
   "metadata": {},
   "outputs": [],
   "source": [
    "import matplotlib.pyplot as plt\n",
    "import pandas as pd\n",
    "import numpy as np"
   ]
  },
  {
   "cell_type": "code",
   "execution_count": 2,
   "metadata": {},
   "outputs": [],
   "source": [
    "# CSVファイルを読み込む\n",
    "train = pd.read_csv('./train_new.csv', encoding = 'utf-8')\n",
    "test = pd.read_csv('./test_new.csv', encoding = 'utf-8')"
   ]
  },
  {
   "cell_type": "markdown",
   "metadata": {},
   "source": [
    "# 使用変数の作成"
   ]
  },
  {
   "cell_type": "code",
   "execution_count": 3,
   "metadata": {},
   "outputs": [],
   "source": [
    "# 変数選択(目的変数, 気温, 収容人数)\n",
    "lm_train = train.loc[:, ['y', 'stage', 'temperature', 'capa', 'weather', 'home_team']]\n",
    "lm_test = test.loc[:, ['stage', 'temperature', 'capa', 'weather', 'home_team']]"
   ]
  },
  {
   "cell_type": "markdown",
   "metadata": {},
   "source": [
    "# 重回帰分析"
   ]
  },
  {
   "cell_type": "code",
   "execution_count": 4,
   "metadata": {},
   "outputs": [],
   "source": [
    "# 目的変数と説明変数に分ける\n",
    "y = np.array(lm_train['y'])\n",
    "x = np.array(lm_train[['stage', 'temperature', 'capa', 'weather', 'home_team']])\n",
    "\n",
    "# データの分割\n",
    "from sklearn.model_selection import train_test_split\n",
    "X_train, X_test, Y_train, Y_test = train_test_split(x, y, test_size=0.3, random_state=0)\n",
    "\n",
    "#線形回帰モデル\n",
    "from sklearn.linear_model import LinearRegression\n",
    "model = LinearRegression().fit(X_train, Y_train)\n",
    "\n",
    "# 予測\n",
    "Y_pred = model.predict(lm_test)"
   ]
  },
  {
   "cell_type": "code",
   "execution_count": 5,
   "metadata": {},
   "outputs": [],
   "source": [
    "# CSVファイル出力\n",
    "# 予測スコアを追加する\n",
    "out = pd.DataFrame({'id':test['id'], 'y':Y_pred})\n",
    "\n",
    "# ファイル出力\n",
    "out.to_csv('submit_0628_1_lm.csv', index=False, header=False)"
   ]
  },
  {
   "cell_type": "markdown",
   "metadata": {},
   "source": [
    "# テストコード"
   ]
  },
  {
   "cell_type": "code",
   "execution_count": 6,
   "metadata": {},
   "outputs": [],
   "source": [
    "import csv\n",
    "from pandas.util.testing import assert_frame_equal\n",
    "from unittest import TestCase\n",
    "\n",
    "# 作成したCSVファイルを読み込む\n",
    "submit = pd.read_csv('./submit_0628_1_lm.csv')\n",
    "sample = pd.read_csv('./sample_submit.csv')\n",
    "\n",
    "# データの長さが一致しているか確認する\n",
    "assert len(sample) == len(submit), 'The amount of data do not match'\n",
    "\n",
    "# idが一致しているか確認する\n",
    "assert sample.columns[0] == submit.columns[0], '\"id\" mismatch'\n",
    "\n",
    "#2列目の列名「y」が入っていないか検証\n",
    "assert 'y' != submit.columns[0],  'index mismatch'"
   ]
  }
 ],
 "metadata": {
  "kernelspec": {
   "display_name": "Python 3",
   "language": "python",
   "name": "python3"
  },
  "language_info": {
   "codemirror_mode": {
    "name": "ipython",
    "version": 3
   },
   "file_extension": ".py",
   "mimetype": "text/x-python",
   "name": "python",
   "nbconvert_exporter": "python",
   "pygments_lexer": "ipython3",
   "version": "3.7.3"
  }
 },
 "nbformat": 4,
 "nbformat_minor": 4
}
